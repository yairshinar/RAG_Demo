{
 "cells": [
  {
   "cell_type": "markdown",
   "metadata": {},
   "source": [
    "# RAG Demo (Stable with latest libraries, no FAISS)\n",
    "This notebook uses HuggingFace transformers to perform document embedding and question answering using cosine similarity."
   ]
  },
  {
   "cell_type": "code",
   "execution_count": null,
   "metadata": {},
   "outputs": [],
   "source": [
    "# !pip install transformers torch scikit-learn"
   ]
  },
  {
   "cell_type": "code",
   "execution_count": 1,
   "metadata": {},
   "outputs": [
    {
     "name": "stderr",
     "output_type": "stream",
     "text": [
      "c:\\Proj\\RAG\\rag-demo-env\\Lib\\site-packages\\tqdm\\auto.py:21: TqdmWarning: IProgress not found. Please update jupyter and ipywidgets. See https://ipywidgets.readthedocs.io/en/stable/user_install.html\n",
      "  from .autonotebook import tqdm as notebook_tqdm\n",
      "c:\\Proj\\RAG\\rag-demo-env\\Lib\\site-packages\\transformers\\utils\\generic.py:441: FutureWarning: `torch.utils._pytree._register_pytree_node` is deprecated. Please use `torch.utils._pytree.register_pytree_node` instead.\n",
      "  _torch_pytree._register_pytree_node(\n",
      "c:\\Proj\\RAG\\rag-demo-env\\Lib\\site-packages\\transformers\\utils\\generic.py:309: FutureWarning: `torch.utils._pytree._register_pytree_node` is deprecated. Please use `torch.utils._pytree.register_pytree_node` instead.\n",
      "  _torch_pytree._register_pytree_node(\n"
     ]
    }
   ],
   "source": [
    "from transformers import AutoTokenizer, AutoModel, pipeline\n",
    "from sklearn.metrics.pairwise import cosine_similarity\n",
    "import torch\n",
    "import numpy as np"
   ]
  },
  {
   "cell_type": "code",
   "execution_count": 2,
   "metadata": {},
   "outputs": [],
   "source": [
    "# Mean pooling function\n",
    "def mean_pooling(model_output, attention_mask):\n",
    "    token_embeddings = model_output[0]\n",
    "    input_mask_expanded = attention_mask.unsqueeze(-1).expand(token_embeddings.size()).float()\n",
    "    return (token_embeddings * input_mask_expanded).sum(1) / input_mask_expanded.sum(1)"
   ]
  },
  {
   "cell_type": "code",
   "execution_count": 3,
   "metadata": {},
   "outputs": [],
   "source": [
    "# Embed texts\n",
    "def embed_texts(texts, tokenizer, model):\n",
    "    encoded_input = tokenizer(texts, padding=True, truncation=True, return_tensors='pt')\n",
    "    with torch.no_grad():\n",
    "        model_output = model(**encoded_input)\n",
    "    return mean_pooling(model_output, encoded_input['attention_mask']).numpy()"
   ]
  },
  {
   "cell_type": "code",
   "execution_count": 36,
   "metadata": {},
   "outputs": [
    {
     "name": "stderr",
     "output_type": "stream",
     "text": [
      "c:\\Proj\\RAG\\rag-demo-env\\Lib\\site-packages\\huggingface_hub\\file_download.py:896: FutureWarning: `resume_download` is deprecated and will be removed in version 1.0.0. Downloads always resume when possible. If you want to force a new download, use `force_download=True`.\n",
      "  warnings.warn(\n"
     ]
    }
   ],
   "source": [
    "# Load embedding and generation models\n",
    "embedding_model = 'sentence-transformers/all-MiniLM-L6-v2'\n",
    "# embedding_model = \"microsoft/mpnet-base\"\n",
    "\n",
    "tokenizer = AutoTokenizer.from_pretrained(embedding_model)\n",
    "model = AutoModel.from_pretrained(embedding_model)\n",
    "gen_pipeline = pipeline('text2text-generation', model='google/flan-t5-base')"
   ]
  },
  {
   "cell_type": "code",
   "execution_count": 37,
   "metadata": {},
   "outputs": [],
   "source": [
    "# Knowledge base\n",
    "docs = [\n",
    "    \"ProductX is the latest widget released in 2024. It features improved battery life.\",\n",
    "    \"To reset ProductX, hold the power button for 10 seconds until the LED blinks.\",\n",
    "    \"Our support plans include Basic, Plus, and Enterprise tiers, offering 24/7 support in higher tiers.\"\n",
    "]\n",
    "doc_embeddings = embed_texts(docs, tokenizer, model)"
   ]
  },
  {
   "cell_type": "code",
   "execution_count": 38,
   "metadata": {},
   "outputs": [
    {
     "name": "stdout",
     "output_type": "stream",
     "text": [
      "Retrieved: Our support plans include Basic, Plus, and Enterprise tiers, offering 24/7 support in higher tiers.\n"
     ]
    }
   ],
   "source": [
    "# User question\n",
    "query = \"How do I reset ProductX?\"\n",
    "query = \"tell me something on levels?\"\n",
    "\n",
    "query_embedding = embed_texts([query], tokenizer, model)[0]\n",
    "similarities = cosine_similarity([query_embedding], doc_embeddings)[0]\n",
    "best_idx = int(np.argmax(similarities))\n",
    "retrieved = docs[best_idx]\n",
    "print(f'Retrieved: {retrieved}')"
   ]
  },
  {
   "cell_type": "code",
   "execution_count": 39,
   "metadata": {},
   "outputs": [
    {
     "name": "stdout",
     "output_type": "stream",
     "text": [
      "Answer: Basic, Plus, and Enterprise\n"
     ]
    }
   ],
   "source": [
    "# Generate answer\n",
    "prompt = f\"Context: {retrieved}\\nQuestion: {query}\\nAnswer:\"\n",
    "response = gen_pipeline(prompt, max_length=100)[0]['generated_text']\n",
    "print(f'Answer: {response}')"
   ]
  },
  {
   "cell_type": "code",
   "execution_count": null,
   "metadata": {},
   "outputs": [],
   "source": []
  }
 ],
 "metadata": {
  "kernelspec": {
   "display_name": "rag-demo-env",
   "language": "python",
   "name": "python3"
  },
  "language_info": {
   "codemirror_mode": {
    "name": "ipython",
    "version": 3
   },
   "file_extension": ".py",
   "mimetype": "text/x-python",
   "name": "python",
   "nbconvert_exporter": "python",
   "pygments_lexer": "ipython3",
   "version": "3.11.9"
  }
 },
 "nbformat": 4,
 "nbformat_minor": 2
}
